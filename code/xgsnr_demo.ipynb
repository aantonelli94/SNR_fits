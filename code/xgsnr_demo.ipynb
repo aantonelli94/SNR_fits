{
 "cells": [
  {
   "cell_type": "code",
   "execution_count": 3,
   "id": "b8315247",
   "metadata": {
    "ExecuteTime": {
     "end_time": "2022-10-18T12:30:08.139407Z",
     "start_time": "2022-10-18T12:30:06.910315Z"
    }
   },
   "outputs": [
    {
     "name": "stderr",
     "output_type": "stream",
     "text": [
      "/opt/miniconda3/envs/techstack/lib/python3.10/site-packages/pandas/core/arraylike.py:397: RuntimeWarning: divide by zero encountered in log10\n",
      "  result = getattr(ufunc, method)(*inputs, **kwargs)\n"
     ]
    },
    {
     "data": {
      "text/plain": [
       "661.6276755030559"
      ]
     },
     "execution_count": 3,
     "metadata": {},
     "output_type": "execute_result"
    }
   ],
   "source": [
    "# Simple usage to predict the fit given masses and redshift.\n",
    "\n",
    "from xgsnr import *\n",
    "\n",
    "Mtot = 1e3 # Total mass in solar masses\n",
    "eta = 0.2 # Symmetric mass ratio in solar masses (between 0 and 0.25)\n",
    "z = 1\n",
    "\n",
    "SNR_fit(Mtot,eta,z)"
   ]
  }
 ],
 "metadata": {
  "kernelspec": {
   "display_name": "Python 3 (ipykernel)",
   "language": "python",
   "name": "python3"
  },
  "language_info": {
   "codemirror_mode": {
    "name": "ipython",
    "version": 3
   },
   "file_extension": ".py",
   "mimetype": "text/x-python",
   "name": "python",
   "nbconvert_exporter": "python",
   "pygments_lexer": "ipython3",
   "version": "3.10.4"
  },
  "toc": {
   "base_numbering": 1,
   "nav_menu": {},
   "number_sections": true,
   "sideBar": true,
   "skip_h1_title": true,
   "title_cell": "Table of Contents",
   "title_sidebar": "Contents",
   "toc_cell": true,
   "toc_position": {},
   "toc_section_display": true,
   "toc_window_display": true
  }
 },
 "nbformat": 4,
 "nbformat_minor": 5
}
