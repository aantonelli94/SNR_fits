{
 "cells": [
  {
   "cell_type": "markdown",
   "id": "0a35bd3d",
   "metadata": {
    "toc": true
   },
   "source": [
    "<h1>Table of Contents<span class=\"tocSkip\"></span></h1>\n",
    "<div class=\"toc\"><ul class=\"toc-item\"></ul></div>"
   ]
  },
  {
   "cell_type": "code",
   "execution_count": 1,
   "id": "b8315247",
   "metadata": {
    "ExecuteTime": {
     "end_time": "2022-10-18T12:30:08.139407Z",
     "start_time": "2022-10-18T12:30:06.910315Z"
    }
   },
   "outputs": [],
   "source": [
    "from xgsnr import *"
   ]
  },
  {
   "cell_type": "code",
   "execution_count": 2,
   "id": "c8b89980",
   "metadata": {
    "ExecuteTime": {
     "end_time": "2022-10-18T12:30:08.173075Z",
     "start_time": "2022-10-18T12:30:08.142786Z"
    }
   },
   "outputs": [
    {
     "name": "stderr",
     "output_type": "stream",
     "text": [
      "/opt/miniconda3/envs/gwbench_new/lib/python3.7/site-packages/pandas/core/arraylike.py:364: RuntimeWarning: divide by zero encountered in log10\n",
      "  result = getattr(ufunc, method)(*inputs, **kwargs)\n"
     ]
    },
    {
     "data": {
      "text/plain": [
       "661.627753136736"
      ]
     },
     "execution_count": 2,
     "metadata": {},
     "output_type": "execute_result"
    }
   ],
   "source": [
    "SNR_fit(1e3,0.2, 1)"
   ]
  },
  {
   "cell_type": "code",
   "execution_count": null,
   "id": "85c0d45e",
   "metadata": {},
   "outputs": [],
   "source": []
  }
 ],
 "metadata": {
  "kernelspec": {
   "display_name": "Python 3 (ipykernel)",
   "language": "python",
   "name": "python3"
  },
  "language_info": {
   "codemirror_mode": {
    "name": "ipython",
    "version": 3
   },
   "file_extension": ".py",
   "mimetype": "text/x-python",
   "name": "python",
   "nbconvert_exporter": "python",
   "pygments_lexer": "ipython3",
   "version": "3.7.13"
  },
  "toc": {
   "base_numbering": 1,
   "nav_menu": {},
   "number_sections": true,
   "sideBar": true,
   "skip_h1_title": true,
   "title_cell": "Table of Contents",
   "title_sidebar": "Contents",
   "toc_cell": true,
   "toc_position": {},
   "toc_section_display": true,
   "toc_window_display": true
  }
 },
 "nbformat": 4,
 "nbformat_minor": 5
}
