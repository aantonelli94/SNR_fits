{
 "cells": [
  {
   "cell_type": "markdown",
   "id": "0a35bd3d",
   "metadata": {
    "toc": true
   },
   "source": [
    "<h1>Table of Contents<span class=\"tocSkip\"></span></h1>\n",
    "<div class=\"toc\"><ul class=\"toc-item\"></ul></div>"
   ]
  },
  {
   "cell_type": "code",
   "execution_count": 19,
   "id": "9270b36d",
   "metadata": {
    "ExecuteTime": {
     "end_time": "2022-10-18T10:50:44.306885Z",
     "start_time": "2022-10-18T10:50:44.292669Z"
    }
   },
   "outputs": [],
   "source": [
    "import numpy as np\n",
    "import pandas as pd\n",
    "\n",
    "from sklearn.model_selection import train_test_split\n",
    "from sklearn import linear_model\n",
    "from sklearn.preprocessing import PolynomialFeatures\n",
    "\n",
    "def dataframe(dataname):\n",
    "    \n",
    "    df = pd.read_pickle(\"./data/\"+dataname) \n",
    "    df.columns = ['m1', 'm2', 'z', 'SNR']\n",
    "    \n",
    "    # First sum up the m1 and m2 columns into a single total mass and the ratio into a mass ratio column\n",
    "    df['Mtot'] = df.loc[:,['m1','m2']].sum(axis=1)\n",
    "    df['massratio'] =  (df['m1']*df['m2'])/(df['Mtot']**2)\n",
    "\n",
    "\n",
    "    # Then take the log10 of the SNR and total mass for easier fits.\n",
    "    df['logSNR'] = np.log10(df['SNR'])\n",
    "    df['logMtot'] = np.log10(df['Mtot'])\n",
    "\n",
    "\n",
    "    # Then we define the new dataframe to contain only total mass, redshift and log of the SNR.\n",
    "    df=df[['logMtot','massratio','z','logSNR']]\n",
    "    \n",
    "    # Isolate a dataframe corresponding to SNR = 0\n",
    "    df_infsubset = df.loc[df['logSNR'] == -np.inf]\n",
    "\n",
    "    logMtot_infsubset = df_infsubset.logMtot\n",
    "    z_infsubset = df_infsubset.z\n",
    "    \n",
    "    # Remove the values with very low SNRs\n",
    "    rho_min = 0.1\n",
    "    df = df[df.logSNR > np.log10(rho_min)]\n",
    "    \n",
    "    return df\n",
    "\n",
    "\n",
    "def SNR(dataname, variables):\n",
    "    \n",
    "    #require a certain SNR threshold in the data frame to avoid numerical issues.\n",
    "    df = dataframe(dataname)\n",
    "    df = df[df.logSNR > 1e-3]\n",
    "\n",
    "    train, test = train_test_split(df, random_state = 2, test_size=0.3) \n",
    "\n",
    "    X_train = train[variables]\n",
    "    X_test = test[variables]\n",
    "    y_train = train.logSNR\n",
    "    y_test = test.logSNR\n",
    "    \n",
    "    # Call the fit.\n",
    "    poly = PolynomialFeatures(degree=5)\n",
    "    \n",
    "    # Transform the data so that it can be accepted by a linear model fit.\n",
    "    X_train_new = poly.fit_transform(X_train)\n",
    "    X_test_new = poly.fit_transform(X_test)\n",
    "\n",
    "    # Fit the model as if it was linear regression.\n",
    "    model = linear_model.LinearRegression()\n",
    "    polyfit = model.fit(X_train_new, y_train)\n",
    "\n",
    "    return 10**polyfit.predict(X_test_new)"
   ]
  },
  {
   "cell_type": "code",
   "execution_count": null,
   "id": "f4cae390",
   "metadata": {},
   "outputs": [],
   "source": []
  }
 ],
 "metadata": {
  "kernelspec": {
   "display_name": "Python 3 (ipykernel)",
   "language": "python",
   "name": "python3"
  },
  "language_info": {
   "codemirror_mode": {
    "name": "ipython",
    "version": 3
   },
   "file_extension": ".py",
   "mimetype": "text/x-python",
   "name": "python",
   "nbconvert_exporter": "python",
   "pygments_lexer": "ipython3",
   "version": "3.7.13"
  },
  "toc": {
   "base_numbering": 1,
   "nav_menu": {},
   "number_sections": true,
   "sideBar": true,
   "skip_h1_title": true,
   "title_cell": "Table of Contents",
   "title_sidebar": "Contents",
   "toc_cell": true,
   "toc_position": {},
   "toc_section_display": true,
   "toc_window_display": true
  }
 },
 "nbformat": 4,
 "nbformat_minor": 5
}
